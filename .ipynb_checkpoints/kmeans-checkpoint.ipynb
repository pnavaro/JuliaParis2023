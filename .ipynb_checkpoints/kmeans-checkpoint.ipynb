{
 "cells": [
  {
   "cell_type": "code",
   "execution_count": 1,
   "id": "c767911c",
   "metadata": {},
   "outputs": [
    {
     "name": "stderr",
     "output_type": "stream",
     "text": [
      "\u001b[36m\u001b[1m[ \u001b[22m\u001b[39m\u001b[36m\u001b[1mInfo: \u001b[22m\u001b[39mPrecompiling Plots [91a5bcdd-55d7-5caf-9e0b-520d859cae80]\n",
      "\u001b[33m\u001b[1m┌ \u001b[22m\u001b[39m\u001b[33m\u001b[1mWarning: \u001b[22m\u001b[39mbackend `GR` is not installed.\n",
      "\u001b[33m\u001b[1m└ \u001b[22m\u001b[39m\u001b[90m@ Plots ~/.julia/packages/Plots/sxUvK/src/backends.jl:43\u001b[39m\n",
      "\u001b[36m\u001b[1m[ \u001b[22m\u001b[39m\u001b[36m\u001b[1mInfo: \u001b[22m\u001b[39mPrecompiling IJuliaExt [2f4121a4-3b3a-5ce6-9c5e-1f2673ce168a]\n"
     ]
    },
    {
     "ename": "LoadError",
     "evalue": "ArgumentError: Package CluGen not found in current path.\n- Run `import Pkg; Pkg.add(\"CluGen\")` to install the CluGen package.",
     "output_type": "error",
     "traceback": [
      "ArgumentError: Package CluGen not found in current path.\n- Run `import Pkg; Pkg.add(\"CluGen\")` to install the CluGen package.",
      "",
      "Stacktrace:",
      " [1] macro expansion",
      "   @ ./loading.jl:1630 [inlined]",
      " [2] macro expansion",
      "   @ ./lock.jl:267 [inlined]",
      " [3] require(into::Module, mod::Symbol)",
      "   @ Base ./loading.jl:1611"
     ]
    }
   ],
   "source": [
    "using Plots, CluGen, BenchmarkTools\n",
    "\n",
    "o = clugen(2, 4, 1000, [1, 0], pi / 8, [20, 10], 10, 1, 1.5)\n",
    "p = plot(o.points[:, 1], o.points[:, 2], seriestype = :scatter, group=o.clusters)"
   ]
  },
  {
   "cell_type": "code",
   "execution_count": null,
   "id": "0b68867f",
   "metadata": {},
   "outputs": [],
   "source": [
    "data = collect(o.points')"
   ]
  },
  {
   "cell_type": "markdown",
   "id": "bbe4d15f",
   "metadata": {},
   "source": [
    "## Algorithm\n",
    "\n",
    "1. Initialise the k centroids by picking k points randomly from our dataset.\n",
    "2. Check each points’ distance from the centroids and assign each point to the closest cluster centroid.\n",
    "3. Calculate the average of all points per clusters and move the cluster centroids to these points.\n",
    "4. Go to number 2, iterate until the centroids stop moving.\n"
   ]
  },
  {
   "cell_type": "markdown",
   "id": "1bc47919",
   "metadata": {},
   "source": [
    "Reference [Bence Komarniczky - K-means from scratch in Julia]( https://niczky12.medium.com/k-means-from-scratch-in-julia-e5f43e023154)"
   ]
  },
  {
   "cell_type": "markdown",
   "id": "0b0e941e",
   "metadata": {},
   "source": [
    "In order to improve the computation we will restart iterations for differents initial centroids. To select the best result we need a cost function defined as the summation of euclidean distance of each training example with its cluster center and this is summed over k clusters.\n",
    "$$\n",
    "J = \\sum_{j=1}^{k} \\sum_{i=1}^{m} a_{ij} || x_i - \\mu_j ||_2^2\n",
    "$$\n",
    "if $x_i \\in c_j$ $ a_{ij} = 1$ else $ a_{ij} = 0 $"
   ]
  },
  {
   "cell_type": "code",
   "execution_count": null,
   "id": "9f5fd2e1",
   "metadata": {},
   "outputs": [],
   "source": [
    "# we only need this for the sampling\n",
    "using StatsBase\n",
    "\n",
    "function kmeans_simple(X, k, max_iter = 100, nstart = 10, threshold = 0.01)\n",
    "    \n",
    "    d, n = size(X)\n",
    "    \n",
    "    centroids_opt = zeros(d, k)\n",
    "    cost_max = Inf\n",
    "    cost = 0\n",
    "    \n",
    "    # This will hold the cluster assignment for each point in X\n",
    "    labels = zeros(Int, n)\n",
    "    \n",
    "    for istart in 1:nstart\n",
    "        \n",
    "        # Let's pick k points from X without replacement\n",
    "        centroids = X[:, sample(1:n, k, replace = false)]\n",
    "    \n",
    "        # create a copy. This is used to check if the centroids are moving or not.\n",
    "        new_centroids = similar(centroids)\n",
    "    \n",
    "        for _ in 1:max_iter\n",
    "            \n",
    "            for col_idx in 1:n # iterate over each point\n",
    "    \n",
    "                p = view(X,:, col_idx)\n",
    "    \n",
    "                # distance between the point and each centroid\n",
    "                point_difference = mapslices(x -> x .- p, centroids, dims=1)\n",
    "    \n",
    "                # squared Euclidian distance\n",
    "                distances = mapslices(sum, point_difference .^ 2, dims=1)\n",
    "    \n",
    "                # index of the closest centroid\n",
    "                labels[col_idx] = findmin(distances)[2][2]\n",
    "                \n",
    "            end\n",
    "    \n",
    "            # Iterate over each centroid\n",
    "            cost = 0\n",
    "            for label in 1:k\n",
    "                # find the mean of the assigned points for that particular cluster\n",
    "                mask = [i for (i, m) in enumerate(label .== labels) if m]\n",
    "                new_centroids[:, label] = mapslices(mean, X[:, mask], dims=2)\n",
    "                cost += sum(mapslices(x -> sum(x.^2), \n",
    "                            X[:, mask] .- new_centroids[:, label], dims=2))\n",
    "            end\n",
    "            \n",
    "            # if the centroids move negligably, then we're done\n",
    "            if isapprox(centroids, new_centroids; rtol=threshold)\n",
    "                 break\n",
    "            else\n",
    "                centroids .= new_centroids\n",
    "            end\n",
    "        end\n",
    "        \n",
    "        if cost < cost_max\n",
    "            centroids_opt .= centroids\n",
    "            cost_max = cost\n",
    "        end\n",
    "            \n",
    "        \n",
    "    end\n",
    "    \n",
    "    return centroids_opt, labels\n",
    "end"
   ]
  },
  {
   "cell_type": "code",
   "execution_count": null,
   "id": "237e2917",
   "metadata": {},
   "outputs": [],
   "source": [
    "@btime result = kmeans_simple(data, 4)"
   ]
  },
  {
   "cell_type": "code",
   "execution_count": null,
   "id": "c6031b9a",
   "metadata": {},
   "outputs": [],
   "source": [
    "result = kmeans_simple(data, 4)\n",
    "\n",
    "# draw original points\n",
    "scatter(data[1, :], data[2, :])\n",
    "# draw the centroids\n",
    "scatter!(result[1][1, :], result[1][2, :])"
   ]
  }
 ],
 "metadata": {
  "jupytext": {
   "encoding": "# -*- coding: utf-8 -*-",
   "formats": "ipynb,jl:light"
  },
  "kernelspec": {
   "display_name": "Julia 1.9.3",
   "language": "julia",
   "name": "julia-1.9"
  },
  "language_info": {
   "file_extension": ".jl",
   "mimetype": "application/julia",
   "name": "julia",
   "version": "1.9.3"
  }
 },
 "nbformat": 4,
 "nbformat_minor": 5
}
